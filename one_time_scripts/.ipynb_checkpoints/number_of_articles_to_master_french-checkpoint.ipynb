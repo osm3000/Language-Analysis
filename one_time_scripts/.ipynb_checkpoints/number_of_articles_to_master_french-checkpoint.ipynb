{
 "cells": [
  {
   "cell_type": "code",
   "execution_count": 9,
   "id": "b3278a62",
   "metadata": {},
   "outputs": [],
   "source": [
    "import pymongo\n",
    "import json\n",
    "from bson import BSON\n",
    "import pandas as pd\n",
    "import os\n",
    "from datetime import datetime\n",
    "import matplotlib.pyplot as plt\n",
    "import random\n",
    "%matplotlib inline"
   ]
  },
  {
   "cell_type": "code",
   "execution_count": 17,
   "id": "42fa7488",
   "metadata": {},
   "outputs": [],
   "source": [
    "DATA_PATH = '../ALL_DATA_2/'"
   ]
  },
  {
   "cell_type": "code",
   "execution_count": 18,
   "id": "e0832f28",
   "metadata": {},
   "outputs": [],
   "source": [
    "all_data_file_names = os.listdir(DATA_PATH)"
   ]
  },
  {
   "cell_type": "code",
   "execution_count": 5,
   "id": "1f6e223f",
   "metadata": {},
   "outputs": [],
   "source": [
    "all_words = pd.read_csv(\"../results/noFilter/allWords.csv\")"
   ]
  },
  {
   "cell_type": "code",
   "execution_count": 6,
   "id": "805c248c",
   "metadata": {},
   "outputs": [
    {
     "data": {
      "text/html": [
       "<div>\n",
       "<style scoped>\n",
       "    .dataframe tbody tr th:only-of-type {\n",
       "        vertical-align: middle;\n",
       "    }\n",
       "\n",
       "    .dataframe tbody tr th {\n",
       "        vertical-align: top;\n",
       "    }\n",
       "\n",
       "    .dataframe thead th {\n",
       "        text-align: right;\n",
       "    }\n",
       "</style>\n",
       "<table border=\"1\" class=\"dataframe\">\n",
       "  <thead>\n",
       "    <tr style=\"text-align: right;\">\n",
       "      <th></th>\n",
       "      <th>words</th>\n",
       "      <th>occurrences</th>\n",
       "      <th>frequency</th>\n",
       "    </tr>\n",
       "  </thead>\n",
       "  <tbody>\n",
       "    <tr>\n",
       "      <th>0</th>\n",
       "      <td>être</td>\n",
       "      <td>255977</td>\n",
       "      <td>3.410142</td>\n",
       "    </tr>\n",
       "    <tr>\n",
       "      <th>1</th>\n",
       "      <td>avoir</td>\n",
       "      <td>212874</td>\n",
       "      <td>2.835921</td>\n",
       "    </tr>\n",
       "    <tr>\n",
       "      <th>2</th>\n",
       "      <td>et</td>\n",
       "      <td>208209</td>\n",
       "      <td>2.773773</td>\n",
       "    </tr>\n",
       "    <tr>\n",
       "      <th>3</th>\n",
       "      <td>que</td>\n",
       "      <td>136050</td>\n",
       "      <td>1.812467</td>\n",
       "    </tr>\n",
       "    <tr>\n",
       "      <th>4</th>\n",
       "      <td>il</td>\n",
       "      <td>113436</td>\n",
       "      <td>1.511202</td>\n",
       "    </tr>\n",
       "    <tr>\n",
       "      <th>...</th>\n",
       "      <td>...</td>\n",
       "      <td>...</td>\n",
       "      <td>...</td>\n",
       "    </tr>\n",
       "    <tr>\n",
       "      <th>106011</th>\n",
       "      <td>kammerer</td>\n",
       "      <td>1</td>\n",
       "      <td>0.000013</td>\n",
       "    </tr>\n",
       "    <tr>\n",
       "      <th>106012</th>\n",
       "      <td>aplasique</td>\n",
       "      <td>1</td>\n",
       "      <td>0.000013</td>\n",
       "    </tr>\n",
       "    <tr>\n",
       "      <th>106013</th>\n",
       "      <td>leucocyte</td>\n",
       "      <td>1</td>\n",
       "      <td>0.000013</td>\n",
       "    </tr>\n",
       "    <tr>\n",
       "      <th>106014</th>\n",
       "      <td>dv</td>\n",
       "      <td>1</td>\n",
       "      <td>0.000013</td>\n",
       "    </tr>\n",
       "    <tr>\n",
       "      <th>106015</th>\n",
       "      <td>dillenseger</td>\n",
       "      <td>1</td>\n",
       "      <td>0.000013</td>\n",
       "    </tr>\n",
       "  </tbody>\n",
       "</table>\n",
       "<p>106016 rows × 3 columns</p>\n",
       "</div>"
      ],
      "text/plain": [
       "              words  occurrences  frequency\n",
       "0              être       255977   3.410142\n",
       "1             avoir       212874   2.835921\n",
       "2                et       208209   2.773773\n",
       "3               que       136050   1.812467\n",
       "4                il       113436   1.511202\n",
       "...             ...          ...        ...\n",
       "106011     kammerer            1   0.000013\n",
       "106012    aplasique            1   0.000013\n",
       "106013    leucocyte            1   0.000013\n",
       "106014           dv            1   0.000013\n",
       "106015  dillenseger            1   0.000013\n",
       "\n",
       "[106016 rows x 3 columns]"
      ]
     },
     "execution_count": 6,
     "metadata": {},
     "output_type": "execute_result"
    }
   ],
   "source": [
    "all_words"
   ]
  },
  {
   "cell_type": "code",
   "execution_count": 7,
   "id": "4c415a8b",
   "metadata": {},
   "outputs": [],
   "source": [
    "all_words['cumulative'] = all_words['frequency'].cumsum()"
   ]
  },
  {
   "cell_type": "code",
   "execution_count": 8,
   "id": "2492c764",
   "metadata": {},
   "outputs": [
    {
     "data": {
      "text/html": [
       "<div>\n",
       "<style scoped>\n",
       "    .dataframe tbody tr th:only-of-type {\n",
       "        vertical-align: middle;\n",
       "    }\n",
       "\n",
       "    .dataframe tbody tr th {\n",
       "        vertical-align: top;\n",
       "    }\n",
       "\n",
       "    .dataframe thead th {\n",
       "        text-align: right;\n",
       "    }\n",
       "</style>\n",
       "<table border=\"1\" class=\"dataframe\">\n",
       "  <thead>\n",
       "    <tr style=\"text-align: right;\">\n",
       "      <th></th>\n",
       "      <th>words</th>\n",
       "      <th>occurrences</th>\n",
       "      <th>frequency</th>\n",
       "      <th>cumulative</th>\n",
       "    </tr>\n",
       "  </thead>\n",
       "  <tbody>\n",
       "    <tr>\n",
       "      <th>0</th>\n",
       "      <td>être</td>\n",
       "      <td>255977</td>\n",
       "      <td>3.410142</td>\n",
       "      <td>3.410142</td>\n",
       "    </tr>\n",
       "    <tr>\n",
       "      <th>1</th>\n",
       "      <td>avoir</td>\n",
       "      <td>212874</td>\n",
       "      <td>2.835921</td>\n",
       "      <td>6.246062</td>\n",
       "    </tr>\n",
       "    <tr>\n",
       "      <th>2</th>\n",
       "      <td>et</td>\n",
       "      <td>208209</td>\n",
       "      <td>2.773773</td>\n",
       "      <td>9.019836</td>\n",
       "    </tr>\n",
       "    <tr>\n",
       "      <th>3</th>\n",
       "      <td>que</td>\n",
       "      <td>136050</td>\n",
       "      <td>1.812467</td>\n",
       "      <td>10.832303</td>\n",
       "    </tr>\n",
       "    <tr>\n",
       "      <th>4</th>\n",
       "      <td>il</td>\n",
       "      <td>113436</td>\n",
       "      <td>1.511202</td>\n",
       "      <td>12.343504</td>\n",
       "    </tr>\n",
       "    <tr>\n",
       "      <th>...</th>\n",
       "      <td>...</td>\n",
       "      <td>...</td>\n",
       "      <td>...</td>\n",
       "      <td>...</td>\n",
       "    </tr>\n",
       "    <tr>\n",
       "      <th>106011</th>\n",
       "      <td>kammerer</td>\n",
       "      <td>1</td>\n",
       "      <td>0.000013</td>\n",
       "      <td>99.999947</td>\n",
       "    </tr>\n",
       "    <tr>\n",
       "      <th>106012</th>\n",
       "      <td>aplasique</td>\n",
       "      <td>1</td>\n",
       "      <td>0.000013</td>\n",
       "      <td>99.999960</td>\n",
       "    </tr>\n",
       "    <tr>\n",
       "      <th>106013</th>\n",
       "      <td>leucocyte</td>\n",
       "      <td>1</td>\n",
       "      <td>0.000013</td>\n",
       "      <td>99.999973</td>\n",
       "    </tr>\n",
       "    <tr>\n",
       "      <th>106014</th>\n",
       "      <td>dv</td>\n",
       "      <td>1</td>\n",
       "      <td>0.000013</td>\n",
       "      <td>99.999987</td>\n",
       "    </tr>\n",
       "    <tr>\n",
       "      <th>106015</th>\n",
       "      <td>dillenseger</td>\n",
       "      <td>1</td>\n",
       "      <td>0.000013</td>\n",
       "      <td>100.000000</td>\n",
       "    </tr>\n",
       "  </tbody>\n",
       "</table>\n",
       "<p>106016 rows × 4 columns</p>\n",
       "</div>"
      ],
      "text/plain": [
       "              words  occurrences  frequency  cumulative\n",
       "0              être       255977   3.410142    3.410142\n",
       "1             avoir       212874   2.835921    6.246062\n",
       "2                et       208209   2.773773    9.019836\n",
       "3               que       136050   1.812467   10.832303\n",
       "4                il       113436   1.511202   12.343504\n",
       "...             ...          ...        ...         ...\n",
       "106011     kammerer            1   0.000013   99.999947\n",
       "106012    aplasique            1   0.000013   99.999960\n",
       "106013    leucocyte            1   0.000013   99.999973\n",
       "106014           dv            1   0.000013   99.999987\n",
       "106015  dillenseger            1   0.000013  100.000000\n",
       "\n",
       "[106016 rows x 4 columns]"
      ]
     },
     "execution_count": 8,
     "metadata": {},
     "output_type": "execute_result"
    }
   ],
   "source": [
    "all_words"
   ]
  },
  {
   "cell_type": "code",
   "execution_count": 10,
   "id": "92d802b2",
   "metadata": {},
   "outputs": [],
   "source": [
    "important_words_80 = all_words[all_words['cumulative'] <= 80]['words']"
   ]
  },
  {
   "cell_type": "code",
   "execution_count": 11,
   "id": "e86d4dae",
   "metadata": {},
   "outputs": [
    {
     "data": {
      "text/plain": [
       "0                être\n",
       "1               avoir\n",
       "2                  et\n",
       "3                 que\n",
       "4                  il\n",
       "            ...      \n",
       "2565          magasin\n",
       "2566    démographique\n",
       "2567          barnier\n",
       "2568             peau\n",
       "2569           saison\n",
       "Name: words, Length: 2570, dtype: object"
      ]
     },
     "execution_count": 11,
     "metadata": {},
     "output_type": "execute_result"
    }
   ],
   "source": [
    "important_words_80"
   ]
  },
  {
   "cell_type": "code",
   "execution_count": 16,
   "id": "01e88d1c",
   "metadata": {},
   "outputs": [
    {
     "name": "stdout",
     "output_type": "stream",
     "text": [
      "['20d3ec9bedabe0fa843a2a6a45d5fca5.json', 'c9702242c9cc01a4a59cdd188e6daf59.json', '504cfa8635e0b2119ec5aa978e5f7dcb.json', 'b96a478847841bc40b5bdcf1bc85c984.json', '9be7d174fda7faefb0c8bcf11541b10f.json', '3e05b0ccc3c8c300f6f9d337e2813db0.json', '56de963c84ed742adbc33e9ab17ba0c6.json', 'ee5cda382ebd45dd148605213eaa1978.json', '44f1781753c80597befb2fc007a101b8.json', 'ff8c7c0b8781f1a480d3d59af00c2209.json']\n",
      "1\n",
      "['8582a6e5cf67018740607e36be9ed1c1.json', '42feda37c2e3cfa6b416871ff3cad7b9.json', 'c5b12cc6fefd57b955cceab8dbbfd3dc.json', 'fb548fa316b9803be33fccadab1851ed.json', 'b7202ef6035fc8b1b620842bd70d837f.json', 'b2450af86dc95c37437317886125daee.json', 'e7a77085dc05bca23469734c979aaaa8.json', '93ae54189c2e378b46924a664e96c5cf.json', '2eafc5af9c4cfc06d139dd5a4ca26d89.json', 'd08aad808ed2edf4028ba1e380c187ab.json']\n",
      "0\n"
     ]
    }
   ],
   "source": [
    "max_of_epochcs = 2\n",
    "objective_reached = False\n",
    "while (max_of_epochcs > 0) and (objective_reached==False):\n",
    "    sample_article_filenames = random.choices(all_data_file_names, k=10)\n",
    "    for single_article_filename in sample_article_filenames:\n",
    "        with open(DATA_PATH + single_article_filename, 'r') as file_handle:\n",
    "            article_content = \n",
    "    max_of_epochcs -= 1\n",
    "    print(max_of_epochcs)"
   ]
  },
  {
   "cell_type": "code",
   "execution_count": null,
   "id": "46388fbe",
   "metadata": {},
   "outputs": [],
   "source": []
  }
 ],
 "metadata": {
  "kernelspec": {
   "display_name": "Python 3",
   "language": "python",
   "name": "python3"
  },
  "language_info": {
   "codemirror_mode": {
    "name": "ipython",
    "version": 3
   },
   "file_extension": ".py",
   "mimetype": "text/x-python",
   "name": "python",
   "nbconvert_exporter": "python",
   "pygments_lexer": "ipython3",
   "version": "3.7.4"
  }
 },
 "nbformat": 4,
 "nbformat_minor": 5
}
